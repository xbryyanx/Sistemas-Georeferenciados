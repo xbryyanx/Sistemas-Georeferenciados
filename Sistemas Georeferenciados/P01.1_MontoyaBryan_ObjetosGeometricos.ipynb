{
 "cells": [
  {
   "cell_type": "markdown",
   "metadata": {},
   "source": [
    "Objetos Geométricos\n",
    "Los objetos geométricos más fundamentales son los puntos, las líneas y los polígonos, que son los\n",
    "ingredientes básicos cuando se trabaja con datos espaciales en formato vectorial. Python tiene un\n",
    "módulo específico llamado Shapely que se puede utilizar para crear y trabajar con objetos\n",
    "geométricos. Hay muchas funcionalidades útiles que puedes hacer con Shapely, como, por ejemplo:\n",
    "* Crear una línea o un polígono a partir de una colección de geometrías de puntos\n",
    "* Calcular áreas/longitud/límites, etc. de geometrías de entrada\n",
    "* Realice operaciones geométricas basadas en las geometrías de entrada, como Unión, Diferencia, Distancia, etc.\n",
    "* Realice consultas espaciales entre geometrías como Intersecciones, Toques, Cruces, Dentro, etc.\n",
    "\n",
    "\n",
    "\n",
    "\n",
    "--------------------------------------------------------------------------------------------------------------------------\n",
    "----------"
   ]
  },
  {
   "cell_type": "code",
   "execution_count": 3,
   "metadata": {},
   "outputs": [
    {
     "name": "stdout",
     "output_type": "stream",
     "text": [
      "POINT (2.2 4.2)\n",
      "POINT (7.2 -25.1)\n",
      "POINT (9.26 -2.456)\n",
      "POINT Z (2.2 -2.456 0.57)\n",
      "<class 'shapely.geometry.point.Point'>\n",
      "<class 'shapely.geometry.point.Point'>\n"
     ]
    }
   ],
   "source": [
    "# importar los objetos geometricos necesarios desde el modulo Shapely\n",
    "from shapely.geometry import Point, LineString, Polygon\n",
    "\n",
    "#crear objetos geometricos de punto de coordenadas \n",
    "\n",
    "point1= Point(2.2, 4.2)\n",
    "point2= Point(7.2, -25.1)\n",
    "point3= Point(9.26, -2.456)\n",
    "point3D= Point(2.2, -2.456, 0.57)\n",
    "\n",
    "# Cual es el tipo de punto?\n",
    "point_type = type(point1)\n",
    "point_type3D = type(point3D)\n",
    "\n",
    "print(point1)\n",
    "print(point2)\n",
    "print(point3)\n",
    "print(point3D)\n",
    "\n",
    "print(point_type)\n",
    "print(point_type3D)\n",
    "\n"
   ]
  },
  {
   "cell_type": "markdown",
   "metadata": {},
   "source": [
    "--------------------------------------------------------------------------------------------------------------------------\n",
    "----------\n",
    "Atributos y funciones de puntos\n",
    "Point -object tiene algunos atributos integrados a los que se puede acceder y también algunas\n",
    "funcionalidades útiles. Uno de los más útiles es la capacidad de extraer las coordenadas de un punto\n",
    "y calcular la distancia euclidiana entre puntos.\n",
    "La extracción de las coordenadas de un punto se puede realizar de dos formas diferentes.\n",
    "--------------------------------------------------------------------------------------------------------------------------\n",
    "----------"
   ]
  },
  {
   "cell_type": "code",
   "execution_count": 4,
   "metadata": {},
   "outputs": [
    {
     "data": {
      "text/plain": [
       "shapely.coords.CoordinateSequence"
      ]
     },
     "execution_count": 4,
     "metadata": {},
     "output_type": "execute_result"
    }
   ],
   "source": [
    "# Obtener las coordenadas\n",
    "point_coords = point1.coords\n",
    "# Cual es el tipo de esto \n",
    "type(point_coords)\n"
   ]
  },
  {
   "cell_type": "code",
   "execution_count": 6,
   "metadata": {},
   "outputs": [
    {
     "name": "stdout",
     "output_type": "stream",
     "text": [
      "2.2\n",
      "4.2\n",
      "(array('d', [2.2]), array('d', [4.2]))\n"
     ]
    }
   ],
   "source": [
    "# Obtener las coordenadas del x y y\n",
    "xy = point_coords.xy\n",
    "\n",
    "# Obtener solo x coordenadas del Punto1\n",
    "x = point1.x\n",
    "\n",
    "#Que pasa con la coordenada y?\n",
    "y = point1.y\n",
    "\n",
    "print(x)\n",
    "print(y)\n",
    "print(xy)\n",
    "\n",
    "\n"
   ]
  }
 ],
 "metadata": {
  "kernelspec": {
   "display_name": "Python 3",
   "language": "python",
   "name": "python3"
  },
  "language_info": {
   "codemirror_mode": {
    "name": "ipython",
    "version": 3
   },
   "file_extension": ".py",
   "mimetype": "text/x-python",
   "name": "python",
   "nbconvert_exporter": "python",
   "pygments_lexer": "ipython3",
   "version": "3.12.2"
  }
 },
 "nbformat": 4,
 "nbformat_minor": 2
}
